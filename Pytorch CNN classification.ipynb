{
 "cells": [
  {
   "cell_type": "code",
   "execution_count": null,
   "id": "cd77da31",
   "metadata": {},
   "outputs": [],
   "source": [
    "\"\"\"\n",
    "전체적인 구조\n",
    "\n",
    "#첫 번째 레이어\n",
    "합성곱(in_channel = 1. out_channel = 32, kernel_size = 3, stride = 1, padding= 1) + 활성화 함수(Activation function) ReLU\n",
    "맥스풀링(kernel_size = 2, stride= 2)\n",
    "\n",
    "#두 번째 레이어\n",
    "합성곱(in_channel = 32. out_channel = 64, kernel_size = 3, stride = 1, padding= 1) + 활성화 함수(Activation function) ReLU\n",
    "맥스풀링(kernel_size = 2, stride= 2)\n",
    "\n",
    "#세 번째 레이어\n",
    "batch_size x 7 x 7 x 64 => batch size = 3136 (특성맵을 펼치는 레이어)\n",
    "Fully connected(전결합층 뉴런 10개) + 활성화 함수 softmax\n",
    "\"\"\""
   ]
  },
  {
   "cell_type": "code",
   "execution_count": 3,
   "id": "9eb734c5",
   "metadata": {},
   "outputs": [],
   "source": [
    "#구현에 필요한 ㄴ라이브러리 불러오기\n",
    "import torch\n",
    "import torch.nn as nn\n",
    "# as를 선언핳지 않았을 경우 torch.nn.Conv2d()\n",
    "# as를 선언헀을 경우 nn.Conv2d()"
   ]
  },
  {
   "cell_type": "code",
   "execution_count": 4,
   "id": "2dd8b2ec",
   "metadata": {},
   "outputs": [
    {
     "name": "stdout",
     "output_type": "stream",
     "text": [
      "텐서의 크기: torch.Size([1, 1, 28, 28]) \n"
     ]
    }
   ],
   "source": [
    "#임의의 텐서 생성(1, 1, 28, 28) → MNIST데이터를 받기 위한 공간\n",
    "# (1채널, input이 1(한개)인 28 x 28데이터)\n",
    "inputs = torch.Tensor(1, 1, 28, 28)\n",
    "print(\"텐서의 크기: {} \".format(inputs.shape))"
   ]
  },
  {
   "cell_type": "code",
   "execution_count": 5,
   "id": "4a514e6c",
   "metadata": {},
   "outputs": [
    {
     "name": "stdout",
     "output_type": "stream",
     "text": [
      "Conv2d(1, 32, kernel_size=(3, 3), stride=(1, 1), padding=(1, 1))\n"
     ]
    }
   ],
   "source": [
    "#첫 번째 합성곱층 선언하기\n",
    "conv1 = nn.Conv2d(1, 32, 3, padding = 1) #Conv2d 내의 인자값(input_channel, output_channel, 커널 사이즈, 패딩 ) / 2d는 2차원 이미지(MINIST는 2차원이므로)\n",
    "print(conv1)"
   ]
  },
  {
   "cell_type": "code",
   "execution_count": 29,
   "id": "a619a6f8",
   "metadata": {},
   "outputs": [
    {
     "name": "stdout",
     "output_type": "stream",
     "text": [
      "Conv2d(32, 64, kernel_size=(3, 3), stride=(1, 1), padding=(1, 1))\n"
     ]
    }
   ],
   "source": [
    "#두 번째 합성곱층 선언하기\n",
    "conv2 = nn.Conv2d(32, 64, 3, padding = 1)\n",
    "print(conv2)"
   ]
  },
  {
   "cell_type": "code",
   "execution_count": 30,
   "id": "5180e02c",
   "metadata": {},
   "outputs": [
    {
     "name": "stdout",
     "output_type": "stream",
     "text": [
      "MaxPool2d(kernel_size=2, stride=2, padding=0, dilation=1, ceil_mode=False)\n"
     ]
    }
   ],
   "source": [
    "#세 번째 합성곱층 선언하기(풀링 레이어)\n",
    "pool = nn.MaxPool2d(2)   #간단히 선언하면 선언된 하나의 정수값을 통해 인자 2는 kernel_size, stride 값을 선언한 것\n",
    "#MaxPool : 2차원에서 앞으로 받았던 모든 feauturemap을 모두 펼치겠다 / \n",
    "print(pool)\n",
    "\n",
    "#pool = nn.MaxPool2d(kernel_size = 2, stride = 2, padding= 0, dilation=1, ceil_mode=False)로 해도 동일"
   ]
  },
  {
   "cell_type": "code",
   "execution_count": 31,
   "id": "81d647d6",
   "metadata": {},
   "outputs": [
    {
     "name": "stdout",
     "output_type": "stream",
     "text": [
      "torch.Size([1, 32, 28, 28])\n"
     ]
    }
   ],
   "source": [
    "#선언 된 레이어를 연결하는 과정\n",
    "#첫번째 레이어 지나가기\n",
    "out = conv1(inputs)\n",
    "print(out.shape)"
   ]
  },
  {
   "cell_type": "code",
   "execution_count": 32,
   "id": "a8dfe67d",
   "metadata": {},
   "outputs": [
    {
     "name": "stdout",
     "output_type": "stream",
     "text": [
      "torch.Size([1, 32, 14, 14])\n"
     ]
    }
   ],
   "source": [
    "#컨벌루셔널 레이어를 거쳐 갈 경우 마지막에 pooling layer가 존재함.\n",
    "out = pool(out)\n",
    "print(out.shape)  #겹쳐진 이미지이므로 반으로 줄어듬"
   ]
  },
  {
   "cell_type": "code",
   "execution_count": 33,
   "id": "34cf949a",
   "metadata": {},
   "outputs": [
    {
     "name": "stdout",
     "output_type": "stream",
     "text": [
      "torch.Size([1, 64, 14, 14])\n"
     ]
    }
   ],
   "source": [
    "#두 번째 레이어 지나가기\n",
    "out = conv2(out)\n",
    "print(out.shape)"
   ]
  },
  {
   "cell_type": "code",
   "execution_count": 34,
   "id": "8088c3ea",
   "metadata": {},
   "outputs": [
    {
     "name": "stdout",
     "output_type": "stream",
     "text": [
      "torch.Size([1, 64, 7, 7])\n"
     ]
    }
   ],
   "source": [
    "out = pool(out)\n",
    "print(out.shape)"
   ]
  },
  {
   "cell_type": "code",
   "execution_count": 35,
   "id": "30ba2666",
   "metadata": {},
   "outputs": [
    {
     "name": "stdout",
     "output_type": "stream",
     "text": [
      "torch.Size([1, 3136])\n"
     ]
    }
   ],
   "source": [
    "#view()함수를 사용해서 텐서를 펼치는 작업(텐서를 통합한다)\n",
    "out = out.view(out.size(0), -1)   #view를 통해서 전체 차원이 합쳐짐\n",
    "print(out.shape)"
   ]
  },
  {
   "cell_type": "code",
   "execution_count": 36,
   "id": "4877af8e",
   "metadata": {},
   "outputs": [
    {
     "name": "stdout",
     "output_type": "stream",
     "text": [
      "torch.Size([1, 10])\n"
     ]
    }
   ],
   "source": [
    "fc = nn.Linear(3136, 10)  #fully connected : 전체를 연결(기초적인 신경망) 통합된 텐서를 통해 input로 받고, \n",
    "                                # 0~9까지의 결과를 갖게 되기 때문에 10개의 output\n",
    "out = fc(out)\n",
    "print(out.shape)\n",
    "\n",
    "#위까지 전체 모델 설정 과정"
   ]
  },
  {
   "cell_type": "code",
   "execution_count": 84,
   "id": "d235b0c3",
   "metadata": {},
   "outputs": [],
   "source": [
    "#위에서 선언한 신경망을 통해서 MNIST(숫자 데이터셋) 분류 문제 해결하기\n",
    "import torch\n",
    "import torchvision.datasets as dsets\n",
    "import torchvision.transforms as transform\n",
    "import torch.nn.init"
   ]
  },
  {
   "cell_type": "code",
   "execution_count": 85,
   "id": "78dc547f",
   "metadata": {},
   "outputs": [],
   "source": [
    "device = 'cuda' if torch.cuda.is_available() else 'cpu' \n",
    "#torch.cuda.is_available()함수는 False/True의 boolean형태로 나타나게 되는데, CUDA를 사용 가능할 경우 True를 반환하기 때문에\n",
    "#if 조건을 만족하는 device = 'cuda'가 되고, 사용이 불가능할 경우 False를 반환하기 때문에 else 조건을 만족하는 device = 'cpu'가 됨.\n",
    "\n",
    "#GPU 사용시에 고정시킬 시드를 선언\n",
    "torch.manual_seed(777)\n",
    "\n",
    "#만약 CPU가 아닌 GPU를 사용해서 훈련을 진행할 경우 고정 된 시드를 통해 GPU로 학습.\n",
    "if device == 'cuda':\n",
    "    torch.cuda.manual_seed_all(777)"
   ]
  },
  {
   "cell_type": "code",
   "execution_count": 86,
   "id": "0f051b40",
   "metadata": {},
   "outputs": [],
   "source": [
    "#학습에 사용되는 변수(파라미터들 : 학습률, 에폭, 배치사이즈 등) 선언\n",
    "learning_rate = 0.001\n",
    "training_epoch = 15\n",
    "batch_size = 100"
   ]
  },
  {
   "cell_type": "code",
   "execution_count": 89,
   "id": "0168e2c2",
   "metadata": {},
   "outputs": [],
   "source": [
    "#MNIST train, test 데이터뎃 을 torchvision,datasets를 통해 비교적으로 쉽게 가져오기\n",
    "\n",
    "mnist_train = dsets.MNIST(root='MNIST_data/',\n",
    "                         train = True,\n",
    "                         transform=transform.ToTensor(),\n",
    "                         download=True)\n",
    "\n",
    "mnist_test = dsets.MNIST(root='MNIST_data/',\n",
    "                       train=False,\n",
    "                       transform=transform.ToTensor(),\n",
    "                       download=True)"
   ]
  },
  {
   "cell_type": "code",
   "execution_count": 90,
   "id": "0c6bf867",
   "metadata": {},
   "outputs": [],
   "source": [
    "#데이터로더를 이용하여 배치크기를 지정\n",
    "data_loader = torch.utils.data.DataLoader(dataset=mnist_train,\n",
    "                                          batch_size=batch_size,\n",
    "                                          shuffle=True,\n",
    "                                          drop_last=True)"
   ]
  },
  {
   "cell_type": "code",
   "execution_count": 97,
   "id": "41591670",
   "metadata": {},
   "outputs": [],
   "source": [
    "class CNN(torch.nn.Module): #CNN구조를 사용한 모델을 선언하기 위한 클래스\n",
    "    def __init__(self):  #초기화 함수, 동시에 모델의 구조를 선언하는 함수\n",
    "        super(CNN, self).__init__()\n",
    "        \n",
    "        self.layer1 = torch.nn.Sequential(torch.nn.Conv2d(1, 32, kernel_size=3, stride=1, padding=1),\n",
    "                                          torch.nn.ReLU(), torch.nn.MaxPool2d(kernel_size=2, stride=2))\n",
    "        self.layer2 = torch.nn.Sequential(torch.nn.Conv2d(32, 64, kernel_size=3, stride=1, padding=1),\n",
    "                                          torch.nn.ReLU(), torch.nn.MaxPool2d(kernel_size=2, stride=2))\n",
    "        \n",
    "        self.fc = torch.nn.Linear(7 * 7 * 64, 10, bias=True)\n",
    "        \n",
    "        torch.nn.init.xavier_uniform_(self.fc.weight)\n",
    "        \n",
    "    def forward(self, x): #레이어를 거치며 계산되는 가중치를 전달하기 위해 사용하는 함수\n",
    "        out = self.layer1(x)\n",
    "        out = self.layer2(out)\n",
    "        out = out.view(out.size(0),-1)\n",
    "        out = self.fc(out)\n",
    "        \n",
    "        return out\n",
    "    "
   ]
  },
  {
   "cell_type": "code",
   "execution_count": 98,
   "id": "3997a7be",
   "metadata": {},
   "outputs": [],
   "source": [
    "model = CNN().to(device)   #.to(device) : 기계가 연산을 하기 위해서 선언\n",
    "# model이라는 객체를 통해서 CNN클래스가 선언이되고, 이는 .to(device)를 통해 gpu에서 연산하게 됨"
   ]
  },
  {
   "cell_type": "code",
   "execution_count": 99,
   "id": "68bb1469",
   "metadata": {},
   "outputs": [],
   "source": [
    "#비용함수(cost function = loss function)은 크로스엔트로피로스로 선언\n",
    "#옵티마이저는 Adam으로 설정\n",
    "criterion = torch.nn.CrossEntropyLoss().to(device)\n",
    "optimizer = torch.optim.Adam(model.parameters(), lr=learning_rate)"
   ]
  },
  {
   "cell_type": "code",
   "execution_count": 100,
   "id": "7f74c784",
   "metadata": {},
   "outputs": [
    {
     "name": "stdout",
     "output_type": "stream",
     "text": [
      "총 배치의 수 : 600\n"
     ]
    }
   ],
   "source": [
    "total_batch = len(data_loader)\n",
    "print(\"총 배치의 수 : {}\".format(total_batch))   \n",
    "#MNIST dataset은 총 60,000개 데이터를 갖고 있기때문에 위의 선언한 batch_size=100으로 나누면 총 600 batch_size를 갖게됨"
   ]
  },
  {
   "cell_type": "code",
   "execution_count": 102,
   "id": "b8f311ff",
   "metadata": {},
   "outputs": [
    {
     "name": "stdout",
     "output_type": "stream",
     "text": [
      " [Epoch:    1] cost = 0.0616908036\n",
      " [Epoch:    2] cost = 0.0453447141\n",
      " [Epoch:    3] cost = 0.0371246971\n",
      " [Epoch:    4] cost = 0.0313365087\n",
      " [Epoch:    5] cost = 0.0264723096\n",
      " [Epoch:    6] cost = 0.0224088151\n",
      " [Epoch:    7] cost = 0.0178217907\n",
      " [Epoch:    8] cost = 0.0159293357\n",
      " [Epoch:    9] cost = 0.0142652672\n",
      " [Epoch:   10] cost = 0.0110207805\n",
      " [Epoch:   11] cost = 0.0111917881\n",
      " [Epoch:   12] cost = 0.0080270227\n",
      " [Epoch:   13] cost = 0.00640485901\n",
      " [Epoch:   14] cost = 0.00700579491\n",
      " [Epoch:   15] cost = 0.00540620647\n"
     ]
    }
   ],
   "source": [
    "for epoch in range(training_epoch):\n",
    "    avg_cost = 0\n",
    "    \n",
    "    for X, Y in data_loader:\n",
    "        X = X.to(device)\n",
    "        Y = Y.to(device)\n",
    "        \n",
    "        optimizer.zero_grad()\n",
    "        hypothesis = model(X)\n",
    "        cost = criterion(hypothesis, Y)\n",
    "        cost.backward()\n",
    "        optimizer.step()\n",
    "        \n",
    "        avg_cost += cost / total_batch\n",
    "        \n",
    "    print(' [Epoch: {:>4}] cost = {:>.9}'.format(epoch+1, avg_cost))"
   ]
  },
  {
   "cell_type": "code",
   "execution_count": 104,
   "id": "66526c94",
   "metadata": {},
   "outputs": [
    {
     "name": "stdout",
     "output_type": "stream",
     "text": [
      "Accuracy: 0.986799955368042\n"
     ]
    },
    {
     "name": "stderr",
     "output_type": "stream",
     "text": [
      "C:\\Users\\11\\anaconda3\\envs\\pytorch\\lib\\site-packages\\torchvision\\datasets\\mnist.py:57: UserWarning: test_labels has been renamed targets\n",
      "  warnings.warn(\"test_labels has been renamed targets\")\n"
     ]
    }
   ],
   "source": [
    "with torch.no_grad():\n",
    "    X_test = mnist_test.test_data.view(len(mnist_test),1,28,28).float().to(device)\n",
    "    Y_test = mnist_test.test_labels.to(device)\n",
    "    \n",
    "    prediction = model(X_test)\n",
    "    correct_prediction = torch.argmax(prediction, 1) == Y_test\n",
    "    accuracy = correct_prediction.float(). mean()\n",
    "    print('Accuracy:', accuracy.item())"
   ]
  },
  {
   "cell_type": "code",
   "execution_count": null,
   "id": "fbdb0d34",
   "metadata": {},
   "outputs": [],
   "source": []
  }
 ],
 "metadata": {
  "kernelspec": {
   "display_name": "Python 3 (ipykernel)",
   "language": "python",
   "name": "python3"
  },
  "language_info": {
   "codemirror_mode": {
    "name": "ipython",
    "version": 3
   },
   "file_extension": ".py",
   "mimetype": "text/x-python",
   "name": "python",
   "nbconvert_exporter": "python",
   "pygments_lexer": "ipython3",
   "version": "3.8.12"
  }
 },
 "nbformat": 4,
 "nbformat_minor": 5
}
